{
 "cells": [
  {
   "cell_type": "code",
   "execution_count": null,
   "id": "b8823bc5",
   "metadata": {},
   "outputs": [],
   "source": [
    "!pip install autopep8\n",
    "!pip install jupyter_contrib_nbextensions==0.5.1\n",
    "!pip install bokeh==0.12.15"
   ]
  },
  {
   "cell_type": "code",
   "execution_count": 38,
   "id": "ba66aacc",
   "metadata": {},
   "outputs": [
    {
     "name": "stdout",
     "output_type": "stream",
     "text": [
      "Device: Device('name': DW_2000Q_6, 'arn': arn:aws:braket:::device/qpu/d-wave/DW_2000Q_6)\n"
     ]
    }
   ],
   "source": [
    "import json\n",
    "from braket.aws import AwsDevice\n",
    "from braket.ocean_plugin import BraketSampler, BraketDWaveSampler\n",
    "\n",
    "from dwave.system.composites import EmbeddingComposite\n",
    "\n",
    "# Please enter the S3 bucket you created during onboarding in the code below\n",
    "my_bucket = \"amazon-braket-zolnierczyk\" # the name of the bucket\n",
    "my_prefix = \"factoring\" # the name of the folder in the bucket\n",
    "s3_folder = (my_bucket, my_prefix)\n",
    "\n",
    "# session and device\n",
    "device = AwsDevice(\"arn:aws:braket:::device/qpu/d-wave/DW_2000Q_6\")\n",
    "print('Device:', device)"
   ]
  },
  {
   "cell_type": "code",
   "execution_count": 39,
   "id": "62349c2e",
   "metadata": {},
   "outputs": [
    {
     "data": {
      "text/plain": [
       "True"
      ]
     },
     "execution_count": 39,
     "metadata": {},
     "output_type": "execute_result"
    }
   ],
   "source": [
    "import dwavebinarycsp as dbc\n",
    "\n",
    "and_gate = dbc.factories.and_gate([\"x1\", \"x2\", \"x3\"])\n",
    "and_csp = dbc.ConstraintSatisfactionProblem('BINARY')\n",
    "and_csp.add_constraint(and_gate)\n",
    "# Test the CSP\n",
    "and_csp.check({\"x1\": 1, \"x2\": 1, \"x3\": 1})"
   ]
  },
  {
   "cell_type": "code",
   "execution_count": 40,
   "id": "27f08d51",
   "metadata": {},
   "outputs": [
    {
     "name": "stdout",
     "output_type": "stream",
     "text": [
      "E, x1, x2, x3\n"
     ]
    },
    {
     "data": {
      "text/plain": [
       "[(0, 0, 0, 0),\n",
       " (0, 0, 1, 0),\n",
       " (0, 1, 0, 0),\n",
       " (0, 1, 1, 1),\n",
       " (1, 0, 1, 1),\n",
       " (1, 1, 0, 1),\n",
       " (1, 1, 1, 0),\n",
       " (3, 0, 0, 1)]"
      ]
     },
     "execution_count": 40,
     "metadata": {},
     "output_type": "execute_result"
    }
   ],
   "source": [
    "import itertools\n",
    "\n",
    "configurations = []\n",
    "for (x1, x2, x3) in  list(itertools.product([0, 1], repeat=3)):\n",
    "     E = 3*x3+x1*x2-2*x1*x3-2*x2*x3\n",
    "     configurations.append((E, x1, x2, x3))\n",
    "\n",
    "configurations.sort()\n",
    "\n",
    "print(\"E, x1, x2, x3\")\n",
    "configurations"
   ]
  },
  {
   "cell_type": "code",
   "execution_count": 41,
   "id": "4be8907c",
   "metadata": {},
   "outputs": [
    {
     "name": "stdout",
     "output_type": "stream",
     "text": [
      "Linear coefficients:\n",
      "\t{'x1': -0.0, 'x2': -0.0, 'x3': 6.0}\n",
      "Quadratic coefficients:\n",
      "\t{('x1', 'x2'): 2.0, ('x1', 'x3'): -4.0, ('x2', 'x3'): -4.0}\n"
     ]
    }
   ],
   "source": [
    "and_bqm = dbc.stitch(and_csp)\n",
    "and_bqm.remove_offset()\n",
    "\n",
    "print(\"Linear coefficients:\\n\\t{}\".format(\n",
    "      {key: round(val, 2) for key, val in and_bqm.linear.items()}))\n",
    "print(\"Quadratic coefficients:\\n\\t{}\".format(\n",
    "      {key: round(val, 2) for key, val in and_bqm.quadratic.items()}))"
   ]
  },
  {
   "cell_type": "code",
   "execution_count": 42,
   "id": "45f94c99",
   "metadata": {},
   "outputs": [
    {
     "name": "stdout",
     "output_type": "stream",
     "text": [
      "  x1 x2 x3 energy num_oc.\n",
      "5  1  1  1   -0.0       1\n",
      "1  1  0  0   -0.0       1\n",
      "3  0  1  0   -0.0       1\n",
      "0  0  0  0    0.0       1\n",
      "6  1  0  1    2.0       1\n",
      "4  0  1  1    2.0       1\n",
      "2  1  1  0    2.0       1\n",
      "7  0  0  1    6.0       1\n",
      "['BINARY', 8 rows, 8 samples, 3 variables]\n"
     ]
    }
   ],
   "source": [
    "from dimod import ExactSolver\n",
    "\n",
    "sampler = ExactSolver()\n",
    "solution = sampler.sample(and_bqm)\n",
    "\n",
    "print(solution)"
   ]
  },
  {
   "cell_type": "code",
   "execution_count": 43,
   "id": "21bb9808",
   "metadata": {},
   "outputs": [
    {
     "name": "stdout",
     "output_type": "stream",
     "text": [
      "010101\n",
      "Constraint.from_configurations(frozenset({(1, 0, 0), (1, 1, 1), (0, 1, 0), (0, 0, 0)}), ('a0', 'b0', 'p0'), Vartype.BINARY, name='AND(a0, b0) = p0')\n",
      "BQM has 27 variables: \n",
      "\t['a0', 'b0', 'p0', 'and0,1', 'b1', 'and0,2', 'b2', 'a1', 'and1,0', 'p1', 'carry1,0', 'and1,1', 'sum1,1', 'carry1,1', 'and1,2', 'a2', 'and2,0', 'p2', 'carry2,0', 'and2,1', 'sum2,1', 'carry2,1', 'and2,2', 'p3', 'carry3,0', 'p4', 'p5']\n"
     ]
    }
   ],
   "source": [
    "P = 21   \n",
    "module_lenght = 6\n",
    "bP = \"{:06b}\".format(P)    # \"{:06b}\" formats for 6-bit binary\n",
    "print(bP)\n",
    "\n",
    "csp = dbc.factories.multiplication_circuit(int(module_lenght/2))\n",
    "\n",
    "print(next(iter(csp.constraints)))\n",
    "\n",
    "bqm = dbc.stitch(csp, min_classical_gap=.1)\n",
    "\n",
    "print(\"BQM has {} variables: \\n\\t{}\".format(len(bqm.variables), list(bqm.variables)))"
   ]
  },
  {
   "cell_type": "code",
   "execution_count": 44,
   "id": "eaab055b",
   "metadata": {},
   "outputs": [
    {
     "name": "stdout",
     "output_type": "stream",
     "text": [
      "BQM has 21 non-fixed variables: \n",
      "\t['a0', 'b0', 'and0,1', 'b1', 'and0,2', 'b2', 'a1', 'and1,0', 'carry1,0', 'and1,1', 'sum1,1', 'carry1,1', 'and1,2', 'a2', 'and2,0', 'carry2,0', 'and2,1', 'sum2,1', 'carry2,1', 'and2,2', 'carry3,0']\n"
     ]
    }
   ],
   "source": [
    "p_vars = ['p'+str(i) for i in range(module_lenght)]\n",
    "\n",
    "# Convert P from decimal to binary\n",
    "fixed_variables = dict(zip(reversed(p_vars), \"{:06b}\".format(P)))\n",
    "fixed_variables = {var: int(x) for(var, x) in fixed_variables.items()}\n",
    "\n",
    "# Fix product variables\n",
    "for var, value in fixed_variables.items():\n",
    "    bqm.fix_variable(var, value)\n",
    "    \n",
    "print(\"BQM has {} non-fixed variables: \\n\\t{}\".format(len(bqm.variables), list(bqm.variables)))"
   ]
  },
  {
   "cell_type": "code",
   "execution_count": 45,
   "id": "0e9b9c0c",
   "metadata": {},
   "outputs": [],
   "source": [
    "sampler = BraketDWaveSampler(s3_folder,'arn:aws:braket:::device/qpu/d-wave/DW_2000Q_6')"
   ]
  },
  {
   "cell_type": "code",
   "execution_count": 50,
   "id": "1a9305f6",
   "metadata": {},
   "outputs": [
    {
     "name": "stdout",
     "output_type": "stream",
     "text": [
      "Mapping from BQM variables to qubits for the Dwave system:\n",
      "\n",
      "\t{} {'and2,1': (590, 582, 450, 578), 'sum1,1': (469, 464, 592, 720), 'carry1,0': (727, 851, 723), 'and2,2': (577, 449, 455, 448), 'a1': (707, 711, 719), 'and2,0': (709, 717, 725), 'and0,1': (854, 843, 846), 'a0': (585, 841, 713), 'and0,2': (456, 597, 584, 589), 'carry2,1': (457, 454, 462), 'carry2,0': (722, 594, 466), 'sum2,1': (452, 467, 468, 460), 'a2': (710, 704, 576), 'b0': (840, 712, 718), 'b1': (706, 834, 842, 839, 847), 'b2': (579, 583, 591), 'and1,2': (715, 587, 459), 'carry3,0': (471, 463), 'and1,0': (835, 837, 853, 845), 'and1,1': (586, 724, 716, 714), 'carry1,1': (458, 453, 461)}\n"
     ]
    }
   ],
   "source": [
    "embeddings = {\n",
    "    \"SIMULATED_2000Q_CLOUD_TEST\": {\n",
    "        \"a0\": [431, 424, 175, 302, 168, 296],\n",
    "        \"a1\": [148, 172, 156, 164],\n",
    "        \"a2\": [417, 292, 289],\n",
    "        \"and0,1\": [173, 165],\n",
    "        \"and0,2\": [155, 167, 159],\n",
    "        \"and1,0\": [171, 174],\n",
    "        \"and1,1\": [152],\n",
    "        \"and1,2\": [407, 415, 145, 273, 401],\n",
    "        \"and2,0\": [303, 287, 295],\n",
    "        \"and2,1\": [276, 284],\n",
    "        \"and2,2\": [422, 419, 420],\n",
    "        \"b0\": [169, 300, 297],\n",
    "        \"b1\": [280, 162, 290, 286, 294],\n",
    "        \"b2\": [160, 288, 416, 423],\n",
    "        \"carry1,0\": [293, 291, 166, 163],\n",
    "        \"carry1,1\": [400, 272, 144, 154, 149, 157],\n",
    "        \"carry2,0\": [283, 285],\n",
    "        \"carry2,1\": [275, 403, 406, 414],\n",
    "        \"carry3,0\": [411, 412],\n",
    "        \"sum1,1\": [281, 158, 153],\n",
    "        \"sum2,1\": [282, 410],\n",
    "    },\n",
    "    \"SIMULATED_2000Q_CLOUD_ALPHA\": {\n",
    "        \"a0\": [431, 424, 175, 302, 168, 296],\n",
    "        \"a1\": [148, 172, 156, 164],\n",
    "        \"a2\": [417, 292, 289],\n",
    "        \"and0,1\": [173, 165],\n",
    "        \"and0,2\": [155, 167, 159],\n",
    "        \"and1,0\": [171, 174],\n",
    "        \"and1,1\": [152],\n",
    "        \"and1,2\": [407, 415, 145, 273, 401],\n",
    "        \"and2,0\": [303, 287, 295],\n",
    "        \"and2,1\": [276, 284],\n",
    "        \"and2,2\": [422, 419, 420],\n",
    "        \"b0\": [169, 300, 297],\n",
    "        \"b1\": [280, 162, 290, 286, 294],\n",
    "        \"b2\": [160, 288, 416, 423],\n",
    "        \"carry1,0\": [293, 291, 166, 163],\n",
    "        \"carry1,1\": [400, 272, 144, 154, 149, 157],\n",
    "        \"carry2,0\": [283, 285],\n",
    "        \"carry2,1\": [275, 403, 406, 414],\n",
    "        \"carry3,0\": [411, 412],\n",
    "        \"sum1,1\": [281, 158, 153],\n",
    "        \"sum2,1\": [282, 410],\n",
    "    },\n",
    "    \"DW_2000Q_5\": {\n",
    "        \"and2,1\": [2033, 1777, 1905],\n",
    "        \"sum1,1\": [1772, 1770],\n",
    "        \"carry1,0\": [1513, 1514, 1642, 1524, 1516],\n",
    "        \"and2,2\": [1918, 1914, 1916],\n",
    "        \"a1\": [1650, 1778],\n",
    "        \"and2,0\": [1640, 1768, 1646],\n",
    "        \"and0,1\": [1521, 1520, 1527],\n",
    "        \"a0\": [1776, 1648],\n",
    "        \"and0,2\": [1775, 1783, 1791],\n",
    "        \"carry2,1\": [1904, 1908],\n",
    "        \"carry2,0\": [1641, 1897, 1769],\n",
    "        \"sum2,1\": [1901, 1907, 1909],\n",
    "        \"a2\": [1774, 1782, 1790, 1658, 1786],\n",
    "        \"b0\": [1662, 1654],\n",
    "        \"b1\": [1649, 1661, 1657, 1653],\n",
    "        \"b2\": [1780, 1787, 1915, 1788],\n",
    "        \"and1,2\": [2043, 2045, 2037, 2034, 1906],\n",
    "        \"carry3,0\": [1902, 1910],\n",
    "        \"and1,0\": [1655, 1523, 1651],\n",
    "        \"and1,1\": [1781, 1773, 1785, 1789],\n",
    "        \"carry1,1\": [1898, 1784, 1903, 1912, 1919, 1911],\n",
    "    },\n",
    "    \"DW_2000Q_6\": {\n",
    "        \"and2,1\": [590, 582, 450, 578],\n",
    "        \"sum1,1\": [469, 464, 592, 720],\n",
    "        \"carry1,0\": [727, 851, 723],\n",
    "        \"and2,2\": [577, 449, 455, 448],\n",
    "        \"a1\": [707, 711, 719],\n",
    "        \"and2,0\": [709, 717, 725],\n",
    "        \"and0,1\": [854, 843, 846],\n",
    "        \"a0\": [585, 841, 713],\n",
    "        \"and0,2\": [456, 597, 584, 589],\n",
    "        \"carry2,1\": [457, 454, 462],\n",
    "        \"carry2,0\": [722, 594, 466],\n",
    "        \"sum2,1\": [452, 467, 468, 460],\n",
    "        \"a2\": [710, 704, 576],\n",
    "        \"b0\": [840, 712, 718],\n",
    "        \"b1\": [706, 834, 842, 839, 847],\n",
    "        \"b2\": [579, 583, 591],\n",
    "        \"and1,2\": [715, 587, 459],\n",
    "        \"carry3,0\": [471, 463],\n",
    "        \"and1,0\": [835, 837, 853, 845],\n",
    "        \"and1,1\": [586, 724, 716, 714],\n",
    "        \"carry1,1\": [458, 453, 461],\n",
    "    },\n",
    "    \"BAY17_P16_ALPHA\": {\n",
    "        \"a0\": [566, 5042],\n",
    "        \"b0\": [521],\n",
    "        \"b1\": [506],\n",
    "        \"and0,1\": [5057],\n",
    "        \"b2\": [5041],\n",
    "        \"and0,2\": [416, 4922],\n",
    "        \"a1\": [5102, 431],\n",
    "        \"and1,0\": [536],\n",
    "        \"a2\": [445, 5117, 446],\n",
    "        \"and2,0\": [4952],\n",
    "        \"and1,1\": [5026],\n",
    "        \"and2,1\": [4996],\n",
    "        \"carry1,0\": [551, 4967],\n",
    "        \"and1,2\": [5056, 371],\n",
    "        \"and2,2\": [326, 5116],\n",
    "        \"sum1,1\": [401],\n",
    "        \"carry1,1\": [341, 5011],\n",
    "        \"carry2,0\": [4891, 430],\n",
    "        \"sum2,1\": [4981],\n",
    "        \"carry2,1\": [356],\n",
    "        \"carry3,0\": [386, 4966],\n",
    "    },\n",
    "    \"BAY17_P16_TEST\": {\n",
    "        \"a0\": [566, 5042],\n",
    "        \"b0\": [521],\n",
    "        \"b1\": [506],\n",
    "        \"and0,1\": [5057],\n",
    "        \"b2\": [5041],\n",
    "        \"and0,2\": [416, 4922],\n",
    "        \"a1\": [5102, 431],\n",
    "        \"and1,0\": [536],\n",
    "        \"a2\": [445, 5117, 446],\n",
    "        \"and2,0\": [4952],\n",
    "        \"and1,1\": [5026],\n",
    "        \"and2,1\": [4996],\n",
    "        \"carry1,0\": [551, 4967],\n",
    "        \"and1,2\": [5056, 371],\n",
    "        \"and2,2\": [326, 5116],\n",
    "        \"sum1,1\": [401],\n",
    "        \"carry1,1\": [341, 5011],\n",
    "        \"carry2,0\": [4891, 430],\n",
    "        \"sum2,1\": [4981],\n",
    "        \"carry2,1\": [356],\n",
    "        \"carry3,0\": [386, 4966],\n",
    "    },\n",
    "}\n",
    "from dwave.system import FixedEmbeddingComposite\n",
    "\n",
    "\n",
    "sampler_fixed_embedding = FixedEmbeddingComposite(sampler, embeddings['DW_2000Q_6'])\n",
    "print(\"Mapping from BQM variables to qubits for the Dwave system:\\n\\n\\t{}\", sampler_fixed_embedding.embedding)\n",
    "\n",
    "\n"
   ]
  },
  {
   "cell_type": "code",
   "execution_count": 54,
   "id": "9951b399",
   "metadata": {},
   "outputs": [
    {
     "name": "stdout",
     "output_type": "stream",
     "text": [
      "Best solution found: \n",
      " {'a0': 1, 'a1': 1, 'a2': 1, 'and0,1': 1, 'and0,2': 0, 'and1,0': 1, 'and1,1': 1, 'and1,2': 0, 'and2,0': 1, 'and2,1': 1, 'and2,2': 0, 'b0': 1, 'b1': 1, 'b2': 0, 'carry1,0': 1, 'carry1,1': 0, 'carry2,0': 1, 'carry2,1': 0, 'carry3,0': 1, 'sum1,1': 1, 'sum2,1': 1}\n",
      "OrderedDict([((7, 3), -0.0), ((3, 7), 0.0), ((5, 5), 1.0), ((5, 1), 1.0), ((5, 7), 2.0), ((3, 3), 2.0), ((5, 3), 2.0), ((3, 5), 2.0), ((1, 3), 2.0), ((7, 1), 2.0), ((7, 7), 3.0), ((4, 3), 3.0), ((3, 4), 3.0), ((7, 5), 4.0), ((1, 7), 4.0), ((3, 1), 4.0), ((1, 5), 5.0)])\n",
      "Given integer P=21, found factors a=7 and b=3\n"
     ]
    }
   ],
   "source": [
    "from dwave.system import EmbeddingComposite\n",
    "sampleset = sampler_fixed_embedding.sample(bqm, num_reads=100)\n",
    "#sampleset = EmbeddingComposite(sampler).sample(bqm, num_reads=8000)\n",
    "print(\"Best solution found: \\n\",sampleset.first.sample)\n",
    "\n",
    "def to_base_ten(sample): \n",
    "    a = b = 0\n",
    "\n",
    "    # we know that multiplication_circuit() has created these variables\n",
    "    a_vars = [\"a\"+str(i) for i in range(int(module_lenght/2))]\n",
    "    b_vars = [\"b\"+str(i) for i in range(int(module_lenght/2))]\n",
    "\n",
    "    for lbl in reversed(a_vars):\n",
    "        a = (a << 1) | sample[lbl]\n",
    "    for lbl in reversed(b_vars):\n",
    "        b = (b << 1) | sample[lbl]\n",
    "\n",
    "    return a, b\n",
    "\n",
    "a, b = to_base_ten(sampleset.first.sample)\n",
    "\n",
    "from collections import OrderedDict\n",
    "\n",
    "\n",
    "\n",
    "print(\"Given integer P={}, found factors a={} and b={}\".format(P, a, b))"
   ]
  },
  {
   "cell_type": "code",
   "execution_count": null,
   "id": "1e7aeb55",
   "metadata": {},
   "outputs": [],
   "source": []
  }
 ],
 "metadata": {
  "kernelspec": {
   "display_name": "conda_braket",
   "language": "python",
   "name": "conda_braket"
  },
  "language_info": {
   "codemirror_mode": {
    "name": "ipython",
    "version": 3
   },
   "file_extension": ".py",
   "mimetype": "text/x-python",
   "name": "python",
   "nbconvert_exporter": "python",
   "pygments_lexer": "ipython3",
   "version": "3.7.10"
  }
 },
 "nbformat": 4,
 "nbformat_minor": 5
}
